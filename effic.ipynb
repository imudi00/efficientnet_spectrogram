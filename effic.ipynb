{
 "cells": [
  {
   "cell_type": "code",
   "execution_count": 1,
   "metadata": {},
   "outputs": [],
   "source": [
    "import tensorflow as tf"
   ]
  },
  {
   "cell_type": "code",
   "execution_count": 2,
   "metadata": {},
   "outputs": [
    {
     "name": "stdout",
     "output_type": "stream",
     "text": [
      "Collecting Pillow\n",
      "  Downloading pillow-11.2.1-cp310-cp310-win_amd64.whl.metadata (9.1 kB)\n",
      "Downloading pillow-11.2.1-cp310-cp310-win_amd64.whl (2.7 MB)\n",
      "   ---------------------------------------- 0.0/2.7 MB ? eta -:--:--\n",
      "   ---------------------------------------- 2.7/2.7 MB 21.9 MB/s eta 0:00:00\n",
      "Installing collected packages: Pillow\n",
      "Successfully installed Pillow-11.2.1\n",
      "Note: you may need to restart the kernel to use updated packages.\n"
     ]
    }
   ],
   "source": [
    "pip install Pillow"
   ]
  },
  {
   "cell_type": "markdown",
   "metadata": {},
   "source": [
    "## 이미지 비율 유지 + 패딩하기"
   ]
  },
  {
   "cell_type": "code",
   "execution_count": null,
   "metadata": {},
   "outputs": [],
   "source": [
    "from PIL import Image, ImageOps\n",
    "import os\n",
    "\n",
    "# ✅ 1. 설정값\n",
    "input_root = r\"E:\\VS\\Trot\"# 원본 이미지들이 있는 최상위 폴더 경로\n",
    "output_root = r\"E:\\train\"      # 장르별로 저장될 폴더 경로\n",
    "target_size = (224, 224)\n",
    "\n",
    "# ✅ 2. 이미지 처리 함수\n",
    "def resize_and_pad_image(input_path, output_path):\n",
    "    with Image.open(input_path) as img:\n",
    "        img = img.convert(\"RGB\")\n",
    "        img.thumbnail(target_size, Image.LANCZOS)\n",
    "\n",
    "        delta_w = target_size[0] - img.size[0]\n",
    "        delta_h = target_size[1] - img.size[1]\n",
    "        padding = (\n",
    "            delta_w // 2, delta_h // 2,\n",
    "            delta_w - delta_w // 2, delta_h - delta_h // 2\n",
    "        )\n",
    "        new_img = ImageOps.expand(img, padding, fill=(0, 0, 0))\n",
    "        new_img.save(output_path)\n",
    "\n",
    "# ✅ 3. 모든 이미지 순회 및 처리\n",
    "# 장르명은 input_root 폴더명의 마지막 부분으로 고정\n",
    "genre = os.path.basename(input_root)\n",
    "output_dir = os.path.join(output_root, genre)\n",
    "os.makedirs(output_dir, exist_ok=True)\n",
    "\n",
    "for root, dirs, files in os.walk(input_root):\n",
    "    for file in files:\n",
    "        if file.lower().endswith(('.png', '.jpg', '.jpeg')):\n",
    "            full_input_path = os.path.join(root, file)\n",
    "\n",
    "            # 저장 경로 설정 (장르 폴더 안에 저장)\n",
    "            output_path = os.path.join(output_dir, file)\n",
    "\n",
    "            # 처리\n",
    "            resize_and_pad_image(full_input_path, output_path)\n",
    "            print(f\"✅ 저장 완료: {output_path}\")\n",
    "\n",
    "print(\"🎉 모든 이미지 처리 완료!\")\n"
   ]
  },
  {
   "cell_type": "code",
   "execution_count": null,
   "metadata": {},
   "outputs": [],
   "source": [
    "pip install scikit-learn matplotlib tensorflow"
   ]
  },
  {
   "cell_type": "code",
   "execution_count": 14,
   "metadata": {},
   "outputs": [
    {
     "name": "stdout",
     "output_type": "stream",
     "text": [
      "Found 800 images belonging to 6 classes.\n",
      "Found 200 images belonging to 6 classes.\n",
      "Downloading data from https://storage.googleapis.com/keras-applications/efficientnetb1_notop.h5\n",
      "\u001b[1m27018416/27018416\u001b[0m \u001b[32m━━━━━━━━━━━━━━━━━━━━\u001b[0m\u001b[37m\u001b[0m \u001b[1m3s\u001b[0m 0us/step\n"
     ]
    },
    {
     "name": "stderr",
     "output_type": "stream",
     "text": [
      "c:\\Users\\User\\anaconda3\\envs\\tf_env\\lib\\site-packages\\keras\\src\\trainers\\data_adapters\\py_dataset_adapter.py:121: UserWarning: Your `PyDataset` class should call `super().__init__(**kwargs)` in its constructor. `**kwargs` can include `workers`, `use_multiprocessing`, `max_queue_size`. Do not pass these arguments to `fit()`, as they will be ignored.\n",
      "  self._warn_if_super_not_called()\n"
     ]
    },
    {
     "name": "stdout",
     "output_type": "stream",
     "text": [
      "Epoch 1/10\n",
      "\u001b[1m50/50\u001b[0m \u001b[32m━━━━━━━━━━━━━━━━━━━━\u001b[0m\u001b[37m\u001b[0m \u001b[1m69s\u001b[0m 752ms/step - accuracy: 0.2439 - loss: 1.7728 - val_accuracy: 0.1350 - val_loss: 1.7980\n",
      "Epoch 2/10\n",
      "\u001b[1m50/50\u001b[0m \u001b[32m━━━━━━━━━━━━━━━━━━━━\u001b[0m\u001b[37m\u001b[0m \u001b[1m34s\u001b[0m 675ms/step - accuracy: 0.4200 - loss: 1.5345 - val_accuracy: 0.1000 - val_loss: 1.8651\n",
      "Epoch 3/10\n",
      "\u001b[1m50/50\u001b[0m \u001b[32m━━━━━━━━━━━━━━━━━━━━\u001b[0m\u001b[37m\u001b[0m \u001b[1m33s\u001b[0m 662ms/step - accuracy: 0.4827 - loss: 1.3741 - val_accuracy: 0.1000 - val_loss: 1.9728\n",
      "Epoch 4/10\n",
      "\u001b[1m50/50\u001b[0m \u001b[32m━━━━━━━━━━━━━━━━━━━━\u001b[0m\u001b[37m\u001b[0m \u001b[1m33s\u001b[0m 666ms/step - accuracy: 0.6106 - loss: 1.0922 - val_accuracy: 0.1000 - val_loss: 2.0596\n",
      "Epoch 5/10\n",
      "\u001b[1m50/50\u001b[0m \u001b[32m━━━━━━━━━━━━━━━━━━━━\u001b[0m\u001b[37m\u001b[0m \u001b[1m33s\u001b[0m 666ms/step - accuracy: 0.6271 - loss: 1.0311 - val_accuracy: 0.1000 - val_loss: 1.9346\n",
      "Epoch 6/10\n",
      "\u001b[1m50/50\u001b[0m \u001b[32m━━━━━━━━━━━━━━━━━━━━\u001b[0m\u001b[37m\u001b[0m \u001b[1m33s\u001b[0m 664ms/step - accuracy: 0.7131 - loss: 0.8574 - val_accuracy: 0.1250 - val_loss: 1.9194\n",
      "Epoch 7/10\n",
      "\u001b[1m50/50\u001b[0m \u001b[32m━━━━━━━━━━━━━━━━━━━━\u001b[0m\u001b[37m\u001b[0m \u001b[1m34s\u001b[0m 669ms/step - accuracy: 0.7490 - loss: 0.7096 - val_accuracy: 0.1500 - val_loss: 1.9050\n",
      "Epoch 8/10\n",
      "\u001b[1m50/50\u001b[0m \u001b[32m━━━━━━━━━━━━━━━━━━━━\u001b[0m\u001b[37m\u001b[0m \u001b[1m33s\u001b[0m 668ms/step - accuracy: 0.7932 - loss: 0.6594 - val_accuracy: 0.1700 - val_loss: 1.9437\n",
      "Epoch 9/10\n",
      "\u001b[1m50/50\u001b[0m \u001b[32m━━━━━━━━━━━━━━━━━━━━\u001b[0m\u001b[37m\u001b[0m \u001b[1m33s\u001b[0m 665ms/step - accuracy: 0.7919 - loss: 0.5850 - val_accuracy: 0.2300 - val_loss: 2.2730\n",
      "Epoch 10/10\n",
      "\u001b[1m50/50\u001b[0m \u001b[32m━━━━━━━━━━━━━━━━━━━━\u001b[0m\u001b[37m\u001b[0m \u001b[1m34s\u001b[0m 677ms/step - accuracy: 0.8494 - loss: 0.4371 - val_accuracy: 0.1000 - val_loss: 2.0665\n"
     ]
    },
    {
     "name": "stderr",
     "output_type": "stream",
     "text": [
      "WARNING:absl:You are saving your model as an HDF5 file via `model.save()` or `keras.saving.save_model(model)`. This file format is considered legacy. We recommend using instead the native Keras format, e.g. `model.save('my_model.keras')` or `keras.saving.save_model(model, 'my_model.keras')`. \n"
     ]
    },
    {
     "name": "stdout",
     "output_type": "stream",
     "text": [
      "✅ 모델 저장 완료: efficientnetb1_genre_tf.h5\n"
     ]
    },
    {
     "data": {
      "image/png": "[encoded data removed]",
      "text/plain": [
       "<Figure size 640x480 with 1 Axes>"
      ]
     },
     "metadata": {},
     "output_type": "display_data"
    },
    {
     "name": "stdout",
     "output_type": "stream",
     "text": [
      "\u001b[1m13/13\u001b[0m \u001b[32m━━━━━━━━━━━━━━━━━━━━\u001b[0m\u001b[37m\u001b[0m \u001b[1m6s\u001b[0m 302ms/step\n",
      "\n",
      "📊 Classification Report:\n",
      "              precision    recall  f1-score   support\n",
      "\n",
      "     Ballade       0.00      0.00      0.00        60\n",
      "       Dance       0.00      0.00      0.00        40\n",
      "      Hiphop       0.10      1.00      0.18        20\n",
      "         RnB       0.00      0.00      0.00        20\n",
      "        Rock       0.00      0.00      0.00        20\n",
      "        Trot       0.00      0.00      0.00        40\n",
      "\n",
      "    accuracy                           0.10       200\n",
      "   macro avg       0.02      0.17      0.03       200\n",
      "weighted avg       0.01      0.10      0.02       200\n",
      "\n"
     ]
    },
    {
     "name": "stderr",
     "output_type": "stream",
     "text": [
      "c:\\Users\\User\\anaconda3\\envs\\tf_env\\lib\\site-packages\\sklearn\\metrics\\_classification.py:1565: UndefinedMetricWarning: Precision is ill-defined and being set to 0.0 in labels with no predicted samples. Use `zero_division` parameter to control this behavior.\n",
      "  _warn_prf(average, modifier, f\"{metric.capitalize()} is\", len(result))\n",
      "c:\\Users\\User\\anaconda3\\envs\\tf_env\\lib\\site-packages\\sklearn\\metrics\\_classification.py:1565: UndefinedMetricWarning: Precision is ill-defined and being set to 0.0 in labels with no predicted samples. Use `zero_division` parameter to control this behavior.\n",
      "  _warn_prf(average, modifier, f\"{metric.capitalize()} is\", len(result))\n",
      "c:\\Users\\User\\anaconda3\\envs\\tf_env\\lib\\site-packages\\sklearn\\metrics\\_classification.py:1565: UndefinedMetricWarning: Precision is ill-defined and being set to 0.0 in labels with no predicted samples. Use `zero_division` parameter to control this behavior.\n",
      "  _warn_prf(average, modifier, f\"{metric.capitalize()} is\", len(result))\n"
     ]
    }
   ],
   "source": [
    "import os\n",
    "import tensorflow as tf\n",
    "from tensorflow.keras.preprocessing.image import ImageDataGenerator\n",
    "from tensorflow.keras.applications import EfficientNetB1\n",
    "from tensorflow.keras.models import Model\n",
    "from tensorflow.keras.layers import Dense, Dropout, GlobalAveragePooling2D\n",
    "from tensorflow.keras.optimizers import Adam\n",
    "from sklearn.metrics import classification_report\n",
    "import matplotlib.pyplot as plt\n",
    "import numpy as np\n",
    "\n",
    "# ✅ 경로 설정\n",
    "data_dir = r\"C:\\Users\\User\\Desktop\\train\"\n",
    "img_size = (224, 224)\n",
    "batch_size = 16\n",
    "epochs = 10\n",
    "\n",
    "# ✅ 데이터셋 불러오기 (train/val 자동 분리)\n",
    "datagen = ImageDataGenerator(\n",
    "    rescale=1./255,\n",
    "    validation_split=0.2,\n",
    "    horizontal_flip=True,\n",
    "    rotation_range=10\n",
    ")\n",
    "\n",
    "train_gen = datagen.flow_from_directory(\n",
    "    data_dir,\n",
    "    target_size=img_size,\n",
    "    batch_size=batch_size,\n",
    "    class_mode='categorical',\n",
    "    subset='training',\n",
    "    shuffle=True\n",
    ")\n",
    "\n",
    "val_gen = datagen.flow_from_directory(\n",
    "    data_dir,\n",
    "    target_size=img_size,\n",
    "    batch_size=batch_size,\n",
    "    class_mode='categorical',\n",
    "    subset='validation',\n",
    "    shuffle=False\n",
    ")\n",
    "\n",
    "num_classes = train_gen.num_classes\n",
    "class_names = list(train_gen.class_indices.keys())\n",
    "\n",
    "# ✅ EfficientNetB1 모델 로드 (사전학습 + 커스텀 출력층)\n",
    "base_model = EfficientNetB1(weights='imagenet', include_top=False, input_shape=(224, 224, 3))\n",
    "x = base_model.output\n",
    "x = GlobalAveragePooling2D()(x)\n",
    "x = Dropout(0.4)(x)\n",
    "output = Dense(num_classes, activation='softmax')(x)\n",
    "model = Model(inputs=base_model.input, outputs=output)\n",
    "\n",
    "# ✅ 컴파일\n",
    "model.compile(optimizer=Adam(1e-4),\n",
    "              loss='categorical_crossentropy',\n",
    "              metrics=['accuracy'])\n",
    "\n",
    "# ✅ 학습\n",
    "history = model.fit(\n",
    "    train_gen,\n",
    "    validation_data=val_gen,\n",
    "    epochs=epochs\n",
    ")\n",
    "\n",
    "# ✅ 저장\n",
    "model.save(\"efficientnetb1_genre_tf.h5\")\n",
    "print(\"✅ 모델 저장 완료: efficientnetb1_genre_tf.h5\")\n",
    "\n",
    "# ✅ 정확도 그래프\n",
    "plt.plot(history.history['accuracy'], label='Train Acc')\n",
    "plt.plot(history.history['val_accuracy'], label='Val Acc')\n",
    "plt.xlabel(\"Epoch\")\n",
    "plt.ylabel(\"Accuracy\")\n",
    "plt.title(\"Training vs Validation Accuracy\")\n",
    "plt.legend()\n",
    "plt.grid()\n",
    "plt.show()\n",
    "\n",
    "# ✅ 성능 리포트\n",
    "val_gen.reset()\n",
    "pred_probs = model.predict(val_gen)\n",
    "y_pred = np.argmax(pred_probs, axis=1)\n",
    "y_true = val_gen.classes\n",
    "print(\"\\n📊 Classification Report:\")\n",
    "print(classification_report(y_true, y_pred, target_names=class_names))"
   ]
  },
  {
   "cell_type": "markdown",
   "metadata": {},
   "source": [
    "### 첫번째 시도 - train 정확도는 높아졌으나 val 이 형편없음"
   ]
  },
  {
   "cell_type": "markdown",
   "metadata": {},
   "source": [
    "## **모바일넷2 코드**"
   ]
  },
  {
   "cell_type": "code",
   "execution_count": null,
   "metadata": {},
   "outputs": [
    {
     "name": "stdout",
     "output_type": "stream",
     "text": [
      "Found 800 images belonging to 6 classes.\n",
      "Found 200 images belonging to 6 classes.\n",
      "Downloading data from https://storage.googleapis.com/tensorflow/keras-applications/mobilenet_v2/mobilenet_v2_weights_tf_dim_ordering_tf_kernels_1.0_224_no_top.h5\n",
      "\u001b[1m9406464/9406464\u001b[0m \u001b[32m━━━━━━━━━━━━━━━━━━━━\u001b[0m\u001b[37m\u001b[0m \u001b[1m1s\u001b[0m 0us/step\n"
     ]
    },
    {
     "name": "stderr",
     "output_type": "stream",
     "text": [
      "c:\\Users\\Administrator\\.conda\\envs\\tf-env\\Lib\\site-packages\\keras\\src\\trainers\\data_adapters\\py_dataset_adapter.py:121: UserWarning: Your `PyDataset` class should call `super().__init__(**kwargs)` in its constructor. `**kwargs` can include `workers`, `use_multiprocessing`, `max_queue_size`. Do not pass these arguments to `fit()`, as they will be ignored.\n",
      "  self._warn_if_super_not_called()\n"
     ]
    },
    {
     "name": "stdout",
     "output_type": "stream",
     "text": [
      "Epoch 1/10\n",
      "\u001b[1m50/50\u001b[0m \u001b[32m━━━━━━━━━━━━━━━━━━━━\u001b[0m\u001b[37m\u001b[0m \u001b[1m26s\u001b[0m 465ms/step - accuracy: 0.1617 - loss: 2.3153 - val_accuracy: 0.2600 - val_loss: 1.8233\n",
      "Epoch 2/10\n",
      "\u001b[1m50/50\u001b[0m \u001b[32m━━━━━━━━━━━━━━━━━━━━\u001b[0m\u001b[37m\u001b[0m \u001b[1m15s\u001b[0m 303ms/step - accuracy: 0.2370 - loss: 2.0359 - val_accuracy: 0.2550 - val_loss: 1.8187\n",
      "Epoch 3/10\n",
      "\u001b[1m50/50\u001b[0m \u001b[32m━━━━━━━━━━━━━━━━━━━━\u001b[0m\u001b[37m\u001b[0m \u001b[1m15s\u001b[0m 293ms/step - accuracy: 0.2498 - loss: 2.0309 - val_accuracy: 0.2800 - val_loss: 1.7673\n",
      "Epoch 4/10\n",
      "\u001b[1m50/50\u001b[0m \u001b[32m━━━━━━━━━━━━━━━━━━━━\u001b[0m\u001b[37m\u001b[0m \u001b[1m15s\u001b[0m 291ms/step - accuracy: 0.2141 - loss: 2.0403 - val_accuracy: 0.3350 - val_loss: 1.7269\n",
      "Epoch 5/10\n",
      "\u001b[1m50/50\u001b[0m \u001b[32m━━━━━━━━━━━━━━━━━━━━\u001b[0m\u001b[37m\u001b[0m \u001b[1m17s\u001b[0m 337ms/step - accuracy: 0.2885 - loss: 1.8854 - val_accuracy: 0.3100 - val_loss: 1.7451\n",
      "Epoch 6/10\n",
      "\u001b[1m50/50\u001b[0m \u001b[32m━━━━━━━━━━━━━━━━━━━━\u001b[0m\u001b[37m\u001b[0m \u001b[1m16s\u001b[0m 319ms/step - accuracy: 0.2582 - loss: 1.9577 - val_accuracy: 0.3200 - val_loss: 1.7330\n",
      "Epoch 7/10\n",
      "\u001b[1m50/50\u001b[0m \u001b[32m━━━━━━━━━━━━━━━━━━━━\u001b[0m\u001b[37m\u001b[0m \u001b[1m16s\u001b[0m 311ms/step - accuracy: 0.3130 - loss: 1.7940 - val_accuracy: 0.3200 - val_loss: 1.7203\n",
      "Epoch 8/10\n",
      "\u001b[1m50/50\u001b[0m \u001b[32m━━━━━━━━━━━━━━━━━━━━\u001b[0m\u001b[37m\u001b[0m \u001b[1m16s\u001b[0m 320ms/step - accuracy: 0.2657 - loss: 1.8721 - val_accuracy: 0.3250 - val_loss: 1.7141\n",
      "Epoch 9/10\n",
      "\u001b[1m50/50\u001b[0m \u001b[32m━━━━━━━━━━━━━━━━━━━━\u001b[0m\u001b[37m\u001b[0m \u001b[1m16s\u001b[0m 310ms/step - accuracy: 0.2532 - loss: 1.9216 - val_accuracy: 0.3250 - val_loss: 1.6964\n",
      "Epoch 10/10\n",
      "\u001b[1m50/50\u001b[0m \u001b[32m━━━━━━━━━━━━━━━━━━━━\u001b[0m\u001b[37m\u001b[0m \u001b[1m16s\u001b[0m 321ms/step - accuracy: 0.2860 - loss: 1.8824 - val_accuracy: 0.3200 - val_loss: 1.6686\n"
     ]
    },
    {
     "name": "stderr",
     "output_type": "stream",
     "text": [
      "WARNING:absl:You are saving your model as an HDF5 file via `model.save()` or `keras.saving.save_model(model)`. This file format is considered legacy. We recommend using instead the native Keras format, e.g. `model.save('my_model.keras')` or `keras.saving.save_model(model, 'my_model.keras')`. \n"
     ]
    },
    {
     "name": "stdout",
     "output_type": "stream",
     "text": [
      "✅ 모델 저장 완료\n"
     ]
    },
    {
     "data": {
      "image/png": "[encoded data removed]",
      "text/plain": [
       "<Figure size 640x480 with 1 Axes>"
      ]
     },
     "metadata": {},
     "output_type": "display_data"
    },
    {
     "name": "stdout",
     "output_type": "stream",
     "text": [
      "\u001b[1m13/13\u001b[0m \u001b[32m━━━━━━━━━━━━━━━━━━━━\u001b[0m\u001b[37m\u001b[0m \u001b[1m4s\u001b[0m 269ms/step\n",
      "\n",
      "📊 Classification Report:\n",
      "              precision    recall  f1-score   support\n",
      "\n",
      "     Ballade       0.37      0.72      0.49        60\n",
      "       Dance       0.34      0.50      0.40        40\n",
      "      Hiphop       0.00      0.00      0.00        20\n",
      "         RnB       0.00      0.00      0.00        20\n",
      "        Rock       0.00      0.00      0.00        20\n",
      "        Trot       0.21      0.12      0.16        40\n",
      "\n",
      "    accuracy                           0.34       200\n",
      "   macro avg       0.15      0.22      0.18       200\n",
      "weighted avg       0.22      0.34      0.26       200\n",
      "\n"
     ]
    },
    {
     "name": "stderr",
     "output_type": "stream",
     "text": [
      "c:\\Users\\Administrator\\.conda\\envs\\tf-env\\Lib\\site-packages\\sklearn\\metrics\\_classification.py:1565: UndefinedMetricWarning: Precision is ill-defined and being set to 0.0 in labels with no predicted samples. Use `zero_division` parameter to control this behavior.\n",
      "  _warn_prf(average, modifier, f\"{metric.capitalize()} is\", len(result))\n",
      "c:\\Users\\Administrator\\.conda\\envs\\tf-env\\Lib\\site-packages\\sklearn\\metrics\\_classification.py:1565: UndefinedMetricWarning: Precision is ill-defined and being set to 0.0 in labels with no predicted samples. Use `zero_division` parameter to control this behavior.\n",
      "  _warn_prf(average, modifier, f\"{metric.capitalize()} is\", len(result))\n",
      "c:\\Users\\Administrator\\.conda\\envs\\tf-env\\Lib\\site-packages\\sklearn\\metrics\\_classification.py:1565: UndefinedMetricWarning: Precision is ill-defined and being set to 0.0 in labels with no predicted samples. Use `zero_division` parameter to control this behavior.\n",
      "  _warn_prf(average, modifier, f\"{metric.capitalize()} is\", len(result))\n"
     ]
    }
   ],
   "source": [
    "import os\n",
    "import numpy as np\n",
    "import tensorflow as tf\n",
    "from tensorflow.keras.applications import MobileNetV2\n",
    "from tensorflow.keras.preprocessing.image import ImageDataGenerator\n",
    "from tensorflow.keras.models import Model\n",
    "from tensorflow.keras.layers import GlobalAveragePooling2D, Dropout, Dense\n",
    "from tensorflow.keras.optimizers import Adam\n",
    "from sklearn.metrics import classification_report\n",
    "import matplotlib.pyplot as plt\n",
    "\n",
    "# ✅ 설정\n",
    "data_dir = r\"D:\\data_vs_resize(224)\"  # 데이터 폴더\n",
    "img_size = (224, 224)\n",
    "batch_size = 16\n",
    "epochs = 10\n",
    "\n",
    "# ✅ 데이터셋 불러오기\n",
    "datagen = ImageDataGenerator(\n",
    "    rescale=1./255,\n",
    "    validation_split=0.2,\n",
    "    zoom_range=0.1,\n",
    "    width_shift_range=0.1,\n",
    "    height_shift_range=0.1\n",
    ")\n",
    "\n",
    "train_gen = datagen.flow_from_directory(\n",
    "    data_dir,\n",
    "    target_size=img_size,\n",
    "    batch_size=batch_size,\n",
    "    class_mode='categorical',\n",
    "    subset='training',\n",
    "    shuffle=True\n",
    ")\n",
    "\n",
    "val_gen = datagen.flow_from_directory(\n",
    "    data_dir,\n",
    "    target_size=img_size,\n",
    "    batch_size=batch_size,\n",
    "    class_mode='categorical',\n",
    "    subset='validation',\n",
    "    shuffle=False\n",
    ")\n",
    "\n",
    "num_classes = train_gen.num_classes\n",
    "class_names = list(train_gen.class_indices.keys())\n",
    "\n",
    "# ✅ MobileNetV2 불러오기 (top 제거 + 입력 크기 지정)\n",
    "base_model = MobileNetV2(weights='imagenet', include_top=False, input_shape=(224, 224, 3))\n",
    "\n",
    "# ✅ 동결 (사전학습된 특징 그대로 사용)\n",
    "for layer in base_model.layers:\n",
    "    layer.trainable = False\n",
    "\n",
    "# ✅ 출력층 구성\n",
    "x = base_model.output\n",
    "x = GlobalAveragePooling2D()(x)\n",
    "x = Dropout(0.5)(x)\n",
    "output = Dense(num_classes, activation='softmax')(x)\n",
    "model = Model(inputs=base_model.input, outputs=output)\n",
    "\n",
    "# ✅ 컴파일\n",
    "model.compile(optimizer=Adam(1e-4), loss='categorical_crossentropy', metrics=['accuracy'])\n",
    "\n",
    "# ✅ 학습\n",
    "history = model.fit(\n",
    "    train_gen,\n",
    "    validation_data=val_gen,\n",
    "    epochs=epochs\n",
    ")\n",
    "\n",
    "# ✅ 모델 저장\n",
    "model.save(\"mobilenetv2_genre_model.h5\")\n",
    "print(\"✅ 모델 저장 완료\")\n",
    "\n",
    "# ✅ 정확도 시각화\n",
    "plt.plot(history.history['accuracy'], label='Train Acc')\n",
    "plt.plot(history.history['val_accuracy'], label='Val Acc')\n",
    "plt.xlabel(\"Epoch\")\n",
    "plt.ylabel(\"Accuracy\")\n",
    "plt.title(\"Training vs Validation Accuracy\")\n",
    "plt.legend()\n",
    "plt.grid()\n",
    "plt.show()\n",
    "\n",
    "# ✅ 검증 리포트\n",
    "val_gen.reset()\n",
    "pred_probs = model.predict(val_gen)\n",
    "y_pred = np.argmax(pred_probs, axis=1)\n",
    "y_true = val_gen.classes\n",
    "print(\"\\n📊 Classification Report:\")\n",
    "print(classification_report(y_true, y_pred, target_names=class_names))\n"
   ]
  },
  {
   "cell_type": "code",
   "execution_count": 2,
   "metadata": {},
   "outputs": [
    {
     "name": "stdout",
     "output_type": "stream",
     "text": [
      "\n",
      "📊 Classification Report:\n",
      "              precision    recall  f1-score   support\n",
      "\n",
      "     Ballade       0.37      0.72      0.49        60\n",
      "       Dance       0.34      0.50      0.40        40\n",
      "      Hiphop       0.00      0.00      0.00        20\n",
      "         RnB       0.00      0.00      0.00        20\n",
      "        Rock       0.00      0.00      0.00        20\n",
      "        Trot       0.21      0.12      0.16        40\n",
      "\n",
      "    accuracy                           0.34       200\n",
      "   macro avg       0.15      0.22      0.18       200\n",
      "weighted avg       0.22      0.34      0.26       200\n",
      "\n"
     ]
    },
    {
     "name": "stderr",
     "output_type": "stream",
     "text": [
      "c:\\Users\\Administrator\\.conda\\envs\\tf-env\\Lib\\site-packages\\sklearn\\metrics\\_classification.py:1565: UndefinedMetricWarning: Precision is ill-defined and being set to 0.0 in labels with no predicted samples. Use `zero_division` parameter to control this behavior.\n",
      "  _warn_prf(average, modifier, f\"{metric.capitalize()} is\", len(result))\n",
      "c:\\Users\\Administrator\\.conda\\envs\\tf-env\\Lib\\site-packages\\sklearn\\metrics\\_classification.py:1565: UndefinedMetricWarning: Precision is ill-defined and being set to 0.0 in labels with no predicted samples. Use `zero_division` parameter to control this behavior.\n",
      "  _warn_prf(average, modifier, f\"{metric.capitalize()} is\", len(result))\n",
      "c:\\Users\\Administrator\\.conda\\envs\\tf-env\\Lib\\site-packages\\sklearn\\metrics\\_classification.py:1565: UndefinedMetricWarning: Precision is ill-defined and being set to 0.0 in labels with no predicted samples. Use `zero_division` parameter to control this behavior.\n",
      "  _warn_prf(average, modifier, f\"{metric.capitalize()} is\", len(result))\n"
     ]
    }
   ],
   "source": [
    "from sklearn.metrics import classification_report\n",
    "\n",
    "class_names = list(val_gen.class_indices.keys())\n",
    "\n",
    "print(\"\\n📊 Classification Report:\")\n",
    "print(classification_report(y_true, y_pred, target_names=class_names))\n"
   ]
  },
  {
   "cell_type": "markdown",
   "metadata": {},
   "source": [
    "## **모바일넷과 동일한 증강처리를 한 efficient net b1**"
   ]
  },
  {
   "cell_type": "code",
   "execution_count": null,
   "metadata": {},
   "outputs": [],
   "source": [
    "import os\n",
    "import numpy as np\n",
    "import tensorflow as tf\n",
    "from tensorflow.keras.preprocessing.image import ImageDataGenerator\n",
    "from tensorflow.keras.applications import EfficientNetB1\n",
    "from tensorflow.keras.models import Model\n",
    "from tensorflow.keras.layers import Dense, Dropout, GlobalAveragePooling2D\n",
    "from tensorflow.keras.optimizers import Adam\n",
    "from sklearn.metrics import classification_report\n",
    "import matplotlib.pyplot as plt\n",
    "\n",
    "# ✅ 경로 설정\n",
    "data_dir = r\"C:\\Users\\User\\Desktop\\train\"  # 본인 환경에 맞게 수정\n",
    "img_size = (224, 224)\n",
    "batch_size = 16\n",
    "epochs = 10\n",
    "\n",
    "# ✅ 데이터셋 불러오기 (MobileNet과 동일한 증강 방식 적용)\n",
    "datagen = ImageDataGenerator(\n",
    "    rescale=1./255,\n",
    "    validation_split=0.2,\n",
    "    zoom_range=0.1,\n",
    "    width_shift_range=0.1,\n",
    "    height_shift_range=0.1\n",
    ")\n",
    "\n",
    "train_gen = datagen.flow_from_directory(\n",
    "    data_dir,\n",
    "    target_size=img_size,\n",
    "    batch_size=batch_size,\n",
    "    class_mode='categorical',\n",
    "    subset='training',\n",
    "    shuffle=True\n",
    ")\n",
    "\n",
    "val_gen = datagen.flow_from_directory(\n",
    "    data_dir,\n",
    "    target_size=img_size,\n",
    "    batch_size=batch_size,\n",
    "    class_mode='categorical',\n",
    "    subset='validation',\n",
    "    shuffle=False\n",
    ")\n",
    "\n",
    "num_classes = train_gen.num_classes\n",
    "class_names = list(train_gen.class_indices.keys())\n",
    "\n",
    "# ✅ EfficientNetB1 모델 로드 (사전학습 + 커스텀 출력층)\n",
    "base_model = EfficientNetB1(weights='imagenet', include_top=False, input_shape=(224, 224, 3))\n",
    "\n",
    "# ✅ 🔒 전체 레이어 동결 (MobileNet과 동일하게)\n",
    "for layer in base_model.layers:\n",
    "    layer.trainable = False\n",
    "\n",
    "# ✅ 출력층 구성\n",
    "x = base_model.output\n",
    "x = GlobalAveragePooling2D()(x)\n",
    "x = Dropout(0.5)(x)  # MobileNet과 동일하게 0.5로 맞춤\n",
    "output = Dense(num_classes, activation='softmax')(x)\n",
    "model = Model(inputs=base_model.input, outputs=output)\n",
    "\n",
    "# ✅ 컴파일\n",
    "model.compile(optimizer=Adam(1e-4),\n",
    "              loss='categorical_crossentropy',\n",
    "              metrics=['accuracy'])\n",
    "\n",
    "# ✅ 학습\n",
    "history = model.fit(\n",
    "    train_gen,\n",
    "    validation_data=val_gen,\n",
    "    epochs=epochs\n",
    ")\n",
    "\n",
    "# ✅ 저장\n",
    "model.save(\"efficientnetb1_matched_aug.h5\")\n",
    "print(\"✅ 모델 저장 완료: efficientnetb1_matched_aug.h5\")\n",
    "\n",
    "# ✅ 정확도 그래프\n",
    "plt.plot(history.history['accuracy'], label='Train Acc')\n",
    "plt.plot(history.history['val_accuracy'], label='Val Acc')\n",
    "plt.xlabel(\"Epoch\")\n",
    "plt.ylabel(\"Accuracy\")\n",
    "plt.title(\"Training vs Validation Accuracy\")\n",
    "plt.legend()\n",
    "plt.grid()\n",
    "plt.show()\n",
    "\n",
    "# ✅ 성능 리포트\n",
    "val_gen.reset()\n",
    "pred_probs = model.predict(val_gen)\n",
    "y_pred = np.argmax(pred_probs, axis=1)\n",
    "y_true = val_gen.classes\n",
    "print(\"\\n📊 Classification Report:\")\n",
    "print(classification_report(y_true, y_pred, target_names=class_names))\n"
   ]
  },
  {
   "cell_type": "markdown",
   "metadata": {},
   "source": [
    "### **곡별 폴더 정리**"
   ]
  },
  {
   "cell_type": "code",
   "execution_count": 1,
   "metadata": {},
   "outputs": [
    {
     "name": "stdout",
     "output_type": "stream",
     "text": [
      "✅ 곡별 폴더 정리가 완료되었습니다.\n"
     ]
    }
   ],
   "source": [
    "import os\n",
    "import shutil\n",
    "import re\n",
    "\n",
    "# 장르 폴더들이 있는 상위 경로\n",
    "root_dir = r\"D:\\data_vs_resize(224)\"         # 실제 경로로 수정하세요\n",
    "output_dir = r\"C:\\Users\\Administrator\\Desktop\\창학\\song\"    # 곡별로 저장할 위치\n",
    "\n",
    "# 파일명에서 숫자 ID 추출 (예: Similar_Ballade_00001_Cover_Arrangement_A.png → 00001)\n",
    "def extract_song_id(filename):\n",
    "    match = re.search(r\"(\\d{5})\", filename)\n",
    "    return match.group(1) if match else None\n",
    "\n",
    "# 장르 폴더 순회\n",
    "for genre in os.listdir(root_dir):\n",
    "    genre_path = os.path.join(root_dir, genre)\n",
    "    if not os.path.isdir(genre_path):\n",
    "        continue\n",
    "\n",
    "    for filename in os.listdir(genre_path):\n",
    "        song_id = extract_song_id(filename)\n",
    "        if not song_id:\n",
    "            continue  # 숫자 ID가 없으면 건너뜀\n",
    "\n",
    "        # 곡 ID 기준으로 디렉토리 생성\n",
    "        song_dir = os.path.join(output_dir, song_id)\n",
    "        os.makedirs(song_dir, exist_ok=True)\n",
    "\n",
    "        # 파일 복사\n",
    "        src_path = os.path.join(genre_path, filename)\n",
    "        dst_path = os.path.join(song_dir, filename)\n",
    "        shutil.copy2(src_path, dst_path)  # shutil.move로 바꾸면 이동\n",
    "\n",
    "print(\"✅ 곡별 폴더 정리가 완료되었습니다.\")\n"
   ]
  }
 ],
 "metadata": {
  "kernelspec": {
   "display_name": "tf-env",
   "language": "python",
   "name": "python3"
  },
  "language_info": {
   "codemirror_mode": {
    "name": "ipython",
    "version": 3
   },
   "file_extension": ".py",
   "mimetype": "text/x-python",
   "name": "python",
   "nbconvert_exporter": "python",
   "pygments_lexer": "ipython3",
   "version": "3.11.11"
  }
 },
 "nbformat": 4,
 "nbformat_minor": 2
}
